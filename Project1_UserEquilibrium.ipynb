{
 "cells": [
  {
   "cell_type": "code",
   "execution_count": 1,
   "metadata": {},
   "outputs": [],
   "source": [
    "import numpy as np\n",
    "import pandas as pd\n",
    "from scipy.optimize import minimize_scalar\n",
    "from scipy import integrate \n",
    "import networkx as nx"
   ]
  },
  {
   "cell_type": "markdown",
   "metadata": {},
   "source": [
    "## Frank-Wolfe Algorithm Implementation for the User Equilibrium\n",
    "The following code implements the Frank-Wolfe Algorithm that is applied to the Sioux Falls South Dakota network to determine user-optimized links flows."
   ]
  },
  {
   "cell_type": "markdown",
   "metadata": {},
   "source": [
    "We first import data related to the link performance function parameters as well as the origin-destination matrix elements.\n",
    "The next step defines the links performance function, the user equilibrium objective, and the step size functions"
   ]
  },
  {
   "cell_type": "code",
   "execution_count": 2,
   "metadata": {},
   "outputs": [],
   "source": [
    "demand=pd.read_csv(\"demand.csv\",header=None)   \n",
    "demand=np.array(demand)\n",
    "\n",
    "linksdata=pd.read_csv(\"links.csv\",header=None)     \n",
    "linksdata=np.array(linksdata)"
   ]
  },
  {
   "cell_type": "code",
   "execution_count": 3,
   "metadata": {},
   "outputs": [],
   "source": [
    "def traveltime(t0,xa,ca):\n",
    "    ta=t0*(1+0.15*(xa/ca)**4)\n",
    "    return ta\n",
    "\n",
    "def objectiveZ(alpha,xa,ca,t0,ya):\n",
    "    Z=0\n",
    "    for i in range(len(xa)):\n",
    "        Z+=integrate.quad(lambda x: traveltime(t0[i],x,ca[i]),0,xa[i]+alpha*(ya[i]-xa[i]))[0]\n",
    "    return Z\n",
    "\n",
    "def stepsize(xa,ca,t0,ya):\n",
    "    alpha=minimize_scalar(lambda alpha: objectiveZ(alpha,xa,ca,t0,ya),bounds=(0,1),method='Bounded')\n",
    "    return alpha.x"
   ]
  },
  {
   "cell_type": "markdown",
   "metadata": {},
   "source": [
    "The Frank-Wolfe algorithm implementation can be found below:"
   ]
  },
  {
   "cell_type": "code",
   "execution_count": 4,
   "metadata": {},
   "outputs": [
    {
     "name": "stdout",
     "output_type": "stream",
     "text": [
      "0.016536932703591842\n",
      "0.018683348611280407\n",
      "0.005997686929020705\n",
      "0.009302603191124815\n",
      "0.003530658653254738\n",
      "0.0012505213946284676\n",
      "0.0006977684578352756\n"
     ]
    }
   ],
   "source": [
    "#Initialization steps\n",
    "t0=linksdata[:,0]                                    \n",
    "ca=linksdata[:,1]                                     \n",
    "ta=t0\n",
    "#Read an adjacency matrix from the appropriate csv file\n",
    "adjacency=pd.read_csv(\"adjacency.csv\",header=None)   \n",
    "adjacency=np.array(adjacency)\n",
    "#Use of Network X package to create the network topology\n",
    "G=nx.DiGraph()                                      \n",
    "G=nx.from_numpy_matrix(adjacency,parallel_edges=True,create_using=nx.DiGraph) \n",
    "links=np.array(G.edges())                            \n",
    "xa=np.zeros(len(links))                              #link flow at step n\n",
    "xa1=np.zeros(len(links))                             #link flow at step n+1\n",
    "eps=1                                                #epsilon for convergence check\n",
    "\n",
    "#Block for Frank-Wolfe algorithm\n",
    "count=0\n",
    "while eps >= 0.001:                                  #stop when epsilon is approximately 0.001\n",
    "    count+=1                                         #number of iterations\n",
    "    for i in range(len(links)):\n",
    "        xa[i]=xa1[i]                                 #revisit link flow at the next iteration (xa(n) is set as xa(n+1))\n",
    "    if(count == 1):\n",
    "        ta=traveltime(t0,xa,ca)\n",
    "        for k in range(len(ta)):\n",
    "            adjacency[links[k][0],links[k][1]] = ta[k]                  #Djikstra with weightes as the travel time values\n",
    "        G = nx.DiGraph()\n",
    "        G = nx.from_numpy_matrix(adjacency,parallel_edges=True,create_using=nx.DiGraph)\n",
    "        path = dict(nx.all_pairs_dijkstra_path(G,weight='weight'))      #Djikstra for all node pairs in the network \n",
    "        for i in range(len(adjacency)):\n",
    "            for j in range(len(adjacency)):                             #in which shortest paths a specific link is utilized\n",
    "                if(i!=j):                                               #capturing this for all links\n",
    "                    tempPath = path[i][j]                               #recalculating the travel times with new link flows\n",
    "                    for k in range(len(tempPath)-1):\n",
    "                        temp2 = [tempPath[k], tempPath[k+1]]            \n",
    "                        for count2 in range(len(links)):\n",
    "                            if(temp2[0] == links[count2][0] and temp2[1] == links[count2][1]):\n",
    "                                xa[count2] = xa[count2] + demand[i][j]     #updating link flow according to the O-D pair demand\n",
    "    ta = traveltime(t0,xa,ca)\n",
    "    for k in range(len(ta)):\n",
    "        adjacency[links[k][0],links[k][1]] = ta[k]                          #in every iteartion recreating the adjacency matrix\n",
    "    G=nx.DiGraph()                                                          #where links are weighted by linke performance in matrix\n",
    "    G=nx.from_numpy_matrix(adjacency,parallel_edges=True,create_using=nx.DiGraph)  #then generate weighted network\n",
    "    path = dict(nx.all_pairs_dijkstra_path(G,weight='weight'))              #again, all node pairs shortest paths are computed\n",
    "    ya=np.zeros(len(links))\n",
    "    for i in range(len(adjacency)):\n",
    "        for j in range(len(adjacency)):                                     #which links appear in which O-D pairs' shortest path\n",
    "            if(i!=j):                                                       #are recorded and ya is assigned with flow of that O-D\n",
    "                tempPath = path[i][j]\n",
    "                for k in range(len(tempPath)-1):\n",
    "                    temp2 = [tempPath[k], tempPath[k+1]]\n",
    "                    for count2 in range(len(links)):\n",
    "                        if(temp2[0] == links[count2][0] and temp2[1] == links[count2][1]):\n",
    "                            ya[count2] = ya[count2] + demand[i][j]        #after ya values are assigned, alpha is calculated\n",
    "    alpha=stepsize(xa,ca,t0,ya)\n",
    "    eps1=np.zeros(len(links))\n",
    "    sum1=0\n",
    "    for i in range(len(links)):\n",
    "        xa1[i]=xa[i]+alpha*(ya[i]-xa[i])                                   #xa(n+1) is updated by optimum alpha, xa(n), and ya\n",
    "        eps1[i]=(xa1[i]-xa[i])**2\n",
    "        sum1+=xa[i]\n",
    "    eps=(sum(eps1)**0.5)/sum1\n",
    "    print(eps)                                                             #convergence after each iteration"
   ]
  },
  {
   "cell_type": "code",
   "execution_count": 5,
   "metadata": {},
   "outputs": [
    {
     "name": "stdout",
     "output_type": "stream",
     "text": [
      "convergence is: 0.0006977684578352756\n",
      "number of iterations is: 7\n",
      "alpha is: 0.03127209128100375\n",
      "final UE travel times are: [3.76966814 3.32032031 3.60884402 3.12671829 2.40135763 2.40087024\n",
      " 2.40135067 2.40299031 1.21320539 3.74304119 1.20184624 2.45262267\n",
      " 3.0723888  3.78209718 2.60215523 1.21174549 1.80268164 1.20002251\n",
      " 1.45771954 1.80268164 2.00073508 3.00840394 3.00626318 2.00049929\n",
      " 1.80283613 1.80283613 3.00163156 3.60479811 3.00032997 4.20126308\n",
      " 3.70272802 3.00162654 3.62821845 3.04273807 2.40135067 3.62821845\n",
      " 1.80046811 1.80046811 2.78169168 3.04187694 3.01697217 2.54812282\n",
      " 3.60480686 3.01444515 2.43611128 2.41626072 3.00840394 3.00032997\n",
      " 1.20291059 1.80000092 4.20126308 1.20291059 1.22420917 1.20002251\n",
      " 1.80000092 2.56176754 2.83449486 1.22420917 2.4302747  2.56176755\n",
      " 2.52011735 3.65720109 3.00433496 3.64299792 1.29186566 2.30909065\n",
      " 2.42091342 3.00244292 1.27153887 2.41314511 2.56411627 2.40947957\n",
      " 1.21375048 2.64441887 2.3341245  1.2123815 ]\n",
      "final UE link flows are: [ 4500.63291136 11399.36708804  4300.         11590.63291136\n",
      " 11599.9999994   7588.46916004 11590.89804559  7818.81067569\n",
      " 14703.25951866  6485.20948383 14933.60087638  8569.9999996\n",
      "  6663.25940108 11390.          8569.99984166 10920.6330693\n",
      "  4949.9999998   4949.9999998  10720.          4949.9999998\n",
      "  2240.6330695   3730.          6893.60091673  2040.0000002\n",
      "  8903.89247058  8933.60091693  4907.76747487  8290.23375654\n",
      "  1689.99989217  2114.10859145  6485.20964177  4904.10856852\n",
      "  4671.18944189 11275.65764224 11561.18944129  4700.8979286\n",
      " 10570.00011739 10569.9999998  10330.00011679 11242.29040712\n",
      "  4550.80905544  7864.84873462  8323.60100183  4318.36805278\n",
      "  5516.93342014  9511.53328027  3730.          1689.9999996\n",
      "  3730.          1689.99989217  2114.10859145  3730.\n",
      "  5844.10859145  4949.9999998   1689.9999996   6639.99989197\n",
      "  4638.64642716  5844.10859145  5413.61797494  6639.9999994\n",
      "  4535.33098197  5773.93853599  3173.3064448   5307.7681046\n",
      "  8729.64921936 11473.97472658 10190.74651587  2731.18999063\n",
      "  8330.03618552  4346.28898638  8093.92250216  4183.77273398\n",
      "  5316.0251607  10329.9999992  11407.41732902  5382.58267584]\n"
     ]
    }
   ],
   "source": [
    "#Final results are printed below:\n",
    "print('convergence is:', eps) \n",
    "print('number of iterations is:', count)\n",
    "print('alpha is:', alpha)\n",
    "print('final UE travel times are:', ta)  \n",
    "print('final UE link flows are:', xa1)"
   ]
  },
  {
   "cell_type": "code",
   "execution_count": 6,
   "metadata": {},
   "outputs": [
    {
     "name": "stdout",
     "output_type": "stream",
     "text": [
      "1270801.7962069164\n"
     ]
    }
   ],
   "source": [
    "print(sum(xa1*ta)) #computing the total travel time in the transportation network under UE conditions"
   ]
  },
  {
   "cell_type": "code",
   "execution_count": null,
   "metadata": {},
   "outputs": [],
   "source": []
  }
 ],
 "metadata": {
  "kernelspec": {
   "display_name": "Python 3",
   "language": "python",
   "name": "python3"
  },
  "language_info": {
   "codemirror_mode": {
    "name": "ipython",
    "version": 3
   },
   "file_extension": ".py",
   "mimetype": "text/x-python",
   "name": "python",
   "nbconvert_exporter": "python",
   "pygments_lexer": "ipython3",
   "version": "3.7.4"
  }
 },
 "nbformat": 4,
 "nbformat_minor": 4
}
